{
 "cells": [
  {
   "cell_type": "code",
   "execution_count": 1,
   "metadata": {},
   "outputs": [],
   "source": [
    "import re\n",
    "from tokenize import tokenize, ENCODING, NEWLINE, ENDMARKER\n",
    "from io import BytesIO\n",
    "import json\n"
   ]
  },
  {
   "cell_type": "code",
   "execution_count": 2,
   "metadata": {},
   "outputs": [],
   "source": [
    "KEYWORDS = (\"and\", \"as\", \"assert\", \"await\", \"async\", \"break\", \"class\", \"continue\", \"def\", \"del\", \"elif\", \"else\", \"except\", \"exec\", \"finally\", \"for\", \"from\",\n",
    "            \"global\", \"nonlocal\", \"if\", \"import\", \"in\", \"is\", \"lambda\", \"not\", \"or\", \"pass\", \"print\", \"raise\", \"return\", \"try\", \"while\", \"with\", \"yield\", \"range\", \"hex\")"
   ]
  },
  {
   "cell_type": "code",
   "execution_count": 3,
   "metadata": {},
   "outputs": [
    {
     "name": "stdout",
     "output_type": "stream",
     "text": [
      "['AND', 'AS', 'ASSERT', 'AWAIT', 'ASYNC', 'BREAK', 'CLASS', 'CONTINUE', 'DEF', 'DEL', 'ELIF', 'ELSE', 'EXCEPT', 'EXEC', 'FINALLY', 'FOR', 'FROM', 'GLOBAL', 'NONLOCAL', 'IF', 'IMPORT', 'IN', 'IS', 'LAMBDA', 'NOT', 'OR', 'PASS', 'PRINT', 'RAISE', 'RETURN', 'TRY', 'WHILE', 'WITH', 'YIELD', 'RANGE', 'HEX']\n"
     ]
    }
   ],
   "source": [
    "UPPER_KEYWORDS = [x.upper() for x in KEYWORDS]\n",
    "print(UPPER_KEYWORDS)"
   ]
  },
  {
   "cell_type": "code",
   "execution_count": 4,
   "metadata": {},
   "outputs": [],
   "source": [
    "TOKENS = (\n",
    "    (r'[a-zA-Z_]\\w*', 'VAR'),\n",
    "    (r'0', 'INT'),\n",
    "    (r'[-+]?\\d+[eE][-+]?\\d+[jJ]', 'FLOAT_EXPONANT_COMPLEX'),\n",
    "    (r'[-+]?\\d+.\\d?[eE][-+]?\\d+[jJ]', 'FLOAT_EXPONANT_COMPLEX'),\n",
    "    (r'[-+]?\\d?.\\d+[eE][-+]?\\d+[jJ]', 'FLOAT_EXPONANT_COMPLEX'),\n",
    "    (r'\\d+[eE][-+]?\\d*', 'FLOAT_EXPONANT'),\n",
    "    (r'\\d+\\.\\d*[eE][-+]?\\d*', 'FLOAT_EXPONANT'),\n",
    "    (r'\\.\\d+[eE][-+]?\\d*', 'FLOAT_EXPONANT'),\n",
    "    (r'\\d*\\.\\d+[jJ]', 'COMPLEX'),\n",
    "    (r'\\d+\\.[jJ]', 'COMPLEX'),\n",
    "    (r'\\d+[jJ]', 'COMPLEX'),\n",
    "    (r'\\d+\\.', 'FLOAT'),\n",
    "    (r'\\d*[_\\d]*\\.[_\\d]+[lL]?', 'FLOAT'),\n",
    "    (r'\\d+[_\\d]+\\.[_\\d]*[lL]?', 'FLOAT'),\n",
    "    (r'\\.', 'DOT'),\n",
    "    (r'[1-9]+[_\\d]*[lL]', 'LONG'),\n",
    "    (r'[1-9]+[_\\d]*', 'INT'),\n",
    "    (r'0[xX][\\d_a-fA-F]+[lL]?', 'HEXA'),\n",
    "    (r'(0[oO][0-7]+)|(0[0-7_]*)[lL]?', 'OCTA'),\n",
    "    (r'0[bB][01_]+[lL]?', 'BINARY'),\n",
    "    (r'\\(', 'LEFT_PARENTHESIS'),\n",
    "    (r'\\)', 'RIGHT_PARENTHESIS'),\n",
    "    (r':', 'COLON'),\n",
    "    (r',', 'COMMA'),\n",
    "    (r';', 'SEMICOLON'),\n",
    "    (r'@', 'AT'),\n",
    "    (r'\\+', 'PLUS'),\n",
    "    (r'-', 'MINUS'),\n",
    "    (r'\\*', 'STAR'),\n",
    "    (r'/', 'SLASH'),\n",
    "    (r'\\|', 'VBAR'),\n",
    "    (r'&', 'AMPER'),\n",
    "    (r'@', 'AT'),\n",
    "    (r'<', 'LESS'),\n",
    "    (r'>', 'GREATER'),\n",
    "    (r'=', 'EQUAL'),\n",
    "    (r'%', 'PERCENT'),\n",
    "    (r'\\[', 'LEFT_SQUARE_BRACKET'),\n",
    "    (r'\\]', 'RIGHT_SQUARE_BRACKET'),\n",
    "    (r'\\{', 'LEFT_BRACKET'),\n",
    "    (r'\\}', 'RIGHT_BRACKET'),\n",
    "    (r'`', 'BACKQUOTE'),\n",
    "    (r'==', 'EQUAL_EQUAL'),\n",
    "    (r'<>', 'NOT_EQUAL'),\n",
    "    (r'!=', 'NOT_EQUAL'),\n",
    "    (r'<=', 'LESS_EQUAL'),\n",
    "    (r'>=', 'GREATER_EQUAL'),\n",
    "    (r'~', 'TILDE'),\n",
    "    (r'\\^', 'CIRCUMFLEX'),\n",
    "    (r'<<', 'LEFT_SHIFT'),\n",
    "    (r'>>', 'RIGHT_SHIFT'),\n",
    "    (r'\\*\\*', 'DOUBLE_STAR'),\n",
    "    (r'\\+=', 'PLUS_EQUAL'),\n",
    "    (r'-=', 'MINUS_EQUAL'),\n",
    "    (r'@=', 'AT_EQUAL'),\n",
    "    (r'\\*=', 'STAR_EQUAL'),\n",
    "    (r'/=', 'SLASH_EQUAL'),\n",
    "    (r'%=', 'PERCENT_EQUAL'),\n",
    "    (r'&=', 'AMPER_EQUAL'),\n",
    "    (r'\\|=', 'VBAR_EQUAL'),\n",
    "    (r'\\^=', 'CIRCUMFLEX_EQUAL'),\n",
    "    (r'<<=', 'LEFT_SHIFT_EQUAL'),\n",
    "    (r'>>=', 'RIGHT_SHIFT_EQUAL'),\n",
    "    (r'\\.\\.\\.', 'ELLIPSIS'),\n",
    "    (r'->', 'RIGHT_ARROW'),\n",
    "    (r'\\*\\*=', 'DOUBLE_STAR_EQUAL'),\n",
    "    (r'//', 'DOUBLE_SLASH'),\n",
    "    (r'//=', 'DOUBLE_SLASH_EQUAL'),\n",
    "    (r'\\n', 'ENDL'),\n",
    "    (r'\\r\\n', 'ENDL'),\n",
    "    (r'#.*', 'COMMENT'),\n",
    "    (r'(\\s|\\\\\\n|\\\\\\r\\n)+', 'SPACE'),\n",
    "    (r'[\"\\'](.|\\n|\\r)*[\"\\']', 'STRING'),\n",
    "    (r'[uU][\"\\'](.|\\n|\\r)*[\"\\']', 'UNICODE_STRING'),\n",
    "    (r'[fF][\"\\'](.|\\n|\\r)*[\"\\']', 'INTERPOLATED_STRING'),\n",
    "    (r'[rR][\"\\'](.|\\n|\\r)*[\"\\']', 'RAW_STRING'),\n",
    "    (r'[bB][\"\\'](.|\\n|\\r)*[\"\\']', 'BINARY_STRING'),\n",
    "    (r'[uU][rR][\"\\'](.|\\n|\\r)*[\"\\']', 'UNICODE_RAW_STRING'),\n",
    "    (r'[bB][rR][\"\\'](.|\\n|\\r)*[\"\\']', 'BINARY_RAW_STRING'),\n",
    "    (r'[fF][rR][\"\\'](.|\\n|\\r)*[\"\\']', 'INTERPOLATED_RAW_STRING'),\n",
    "    (r'[rR][fF][\"\\'](.|\\n|\\r)*[\"\\']', 'INTERPOLATED_RAW_STRING'),\n",
    ")"
   ]
  },
  {
   "cell_type": "code",
   "execution_count": 5,
   "metadata": {},
   "outputs": [],
   "source": [
    "TOKENS = [(re.compile('^' + x[0] + '$'), x[1]) for x in TOKENS]"
   ]
  },
  {
   "cell_type": "code",
   "execution_count": 6,
   "metadata": {},
   "outputs": [
    {
     "data": {
      "text/plain": [
       "' b = [(idx, item) for idx,item in enumerate(TOKENS)]\\nprint(b) '"
      ]
     },
     "execution_count": 6,
     "metadata": {},
     "output_type": "execute_result"
    }
   ],
   "source": [
    "\"\"\" b = [(idx, item) for idx,item in enumerate(TOKENS)]\n",
    "print(b) \"\"\""
   ]
  },
  {
   "cell_type": "code",
   "execution_count": 7,
   "metadata": {},
   "outputs": [],
   "source": [
    "def more_tokenize(sequence, print_function=False):\n",
    "    return list(tokenize_generator(sequence))"
   ]
  },
  {
   "cell_type": "code",
   "execution_count": 8,
   "metadata": {},
   "outputs": [],
   "source": [
    "def tokenize_current_keywords(print_function=False):\n",
    "    if print_function is True:\n",
    "        return [x for x in KEYWORDS if x != \"print\"]\n",
    "    else:\n",
    "        return KEYWORDS"
   ]
  },
  {
   "cell_type": "code",
   "execution_count": 9,
   "metadata": {},
   "outputs": [],
   "source": [
    "def tokenize_generator(sequence):\n",
    "    print(sequence)\n",
    "    current_keywords = tokenize_current_keywords()\n",
    "    for item in sequence:\n",
    "        if item in current_keywords:\n",
    "            yield [item.upper(), item]\n",
    "            continue\n",
    "        \n",
    "        for candidate, token_name in TOKENS:\n",
    "            if candidate.match(item):\n",
    "                yield [token_name, item]\n",
    "                break\n",
    "        else:\n",
    "            raise Exception(\n",
    "                \"Can't find a matching token for this item: '%s'\" % item)\n",
    "    # yield ('ENDMARKER', '')\n",
    "    # yield"
   ]
  },
  {
   "cell_type": "code",
   "execution_count": 10,
   "metadata": {},
   "outputs": [],
   "source": [
    "\n",
    "def call_moretokenizer(errorline):\n",
    "    g = tokenize(BytesIO(errorline.encode('utf-8')).readline)\n",
    "    tokenarray = []\n",
    "    for toknum, tokval, _, _, _ in g:\n",
    "        if toknum not in [ENCODING, NEWLINE, ENDMARKER] and tokval != '':\n",
    "            tokenarray.append(tokval)\n",
    "    more_tkn = more_tokenize(tokenarray)\n",
    "    tkn_named_entity = []\n",
    "    for tkn in more_tkn:\n",
    "        tkn_named_entity.append(tkn[0])\n",
    "        \n",
    "    return tkn_named_entity\n"
   ]
  },
  {
   "cell_type": "code",
   "execution_count": 11,
   "metadata": {},
   "outputs": [
    {
     "data": {
      "text/plain": [
       "' list2=[]\\nfor i in range(len(TOKENS)):\\n    list2.append(i)\\nprint(list2) '"
      ]
     },
     "execution_count": 11,
     "metadata": {},
     "output_type": "execute_result"
    }
   ],
   "source": [
    "\"\"\" list2=[]\n",
    "for i in range(len(TOKENS)):\n",
    "    list2.append(i)\n",
    "print(list2) \"\"\""
   ]
  },
  {
   "cell_type": "code",
   "execution_count": 12,
   "metadata": {},
   "outputs": [
    {
     "name": "stdout",
     "output_type": "stream",
     "text": [
      "['\\n', 'def', 'say_hello', '(', ')', ':', '\\t', 'print', '(', ')', 'say_hello', '(', ')', 'if', 'for']\n",
      "['ENDL', 'DEF', 'VAR', 'LEFT_PARENTHESIS', 'RIGHT_PARENTHESIS', 'COLON', 'SPACE', 'PRINT', 'LEFT_PARENTHESIS', 'RIGHT_PARENTHESIS', 'VAR', 'LEFT_PARENTHESIS', 'RIGHT_PARENTHESIS', 'IF', 'FOR']\n"
     ]
    }
   ],
   "source": [
    "errorcode=\"\"\"\n",
    "def say_hello():\n",
    "\tprint()\n",
    "say_hello()\n",
    "if \n",
    "for\n",
    "\"\"\"\n",
    "\n",
    "deneme=call_moretokenizer(errorcode)\n",
    "\n",
    "\n",
    "print(deneme)\n"
   ]
  },
  {
   "cell_type": "code",
   "execution_count": 13,
   "metadata": {},
   "outputs": [
    {
     "name": "stdout",
     "output_type": "stream",
     "text": [
      "['VAR', 'INT', 'FLOAT_EXPONANT_COMPLEX', 'FLOAT_EXPONANT_COMPLEX', 'FLOAT_EXPONANT_COMPLEX', 'FLOAT_EXPONANT', 'FLOAT_EXPONANT', 'FLOAT_EXPONANT', 'COMPLEX', 'COMPLEX', 'COMPLEX', 'FLOAT', 'FLOAT', 'FLOAT', 'DOT', 'LONG', 'INT', 'HEXA', 'OCTA', 'BINARY', 'LEFT_PARENTHESIS', 'RIGHT_PARENTHESIS', 'COLON', 'COMMA', 'SEMICOLON', 'AT', 'PLUS', 'MINUS', 'STAR', 'SLASH', 'VBAR', 'AMPER', 'AT', 'LESS', 'GREATER', 'EQUAL', 'PERCENT', 'LEFT_SQUARE_BRACKET', 'RIGHT_SQUARE_BRACKET', 'LEFT_BRACKET', 'RIGHT_BRACKET', 'BACKQUOTE', 'EQUAL_EQUAL', 'NOT_EQUAL', 'NOT_EQUAL', 'LESS_EQUAL', 'GREATER_EQUAL', 'TILDE', 'CIRCUMFLEX', 'LEFT_SHIFT', 'RIGHT_SHIFT', 'DOUBLE_STAR', 'PLUS_EQUAL', 'MINUS_EQUAL', 'AT_EQUAL', 'STAR_EQUAL', 'SLASH_EQUAL', 'PERCENT_EQUAL', 'AMPER_EQUAL', 'VBAR_EQUAL', 'CIRCUMFLEX_EQUAL', 'LEFT_SHIFT_EQUAL', 'RIGHT_SHIFT_EQUAL', 'ELLIPSIS', 'RIGHT_ARROW', 'DOUBLE_STAR_EQUAL', 'DOUBLE_SLASH', 'DOUBLE_SLASH_EQUAL', 'ENDL', 'ENDL', 'COMMENT', 'SPACE', 'STRING', 'UNICODE_STRING', 'INTERPOLATED_STRING', 'RAW_STRING', 'BINARY_STRING', 'UNICODE_RAW_STRING', 'BINARY_RAW_STRING', 'INTERPOLATED_RAW_STRING', 'INTERPOLATED_RAW_STRING']\n"
     ]
    }
   ],
   "source": [
    "list1=[]\n",
    "for i in TOKENS:\n",
    "    list1.append(i[1])\n",
    "print(list1)"
   ]
  },
  {
   "cell_type": "code",
   "execution_count": 14,
   "metadata": {},
   "outputs": [
    {
     "name": "stdout",
     "output_type": "stream",
     "text": [
      "['VAR', 'INT', 'FLOAT_EXPONANT_COMPLEX', 'FLOAT_EXPONANT_COMPLEX', 'FLOAT_EXPONANT_COMPLEX', 'FLOAT_EXPONANT', 'FLOAT_EXPONANT', 'FLOAT_EXPONANT', 'COMPLEX', 'COMPLEX', 'COMPLEX', 'FLOAT', 'FLOAT', 'FLOAT', 'DOT', 'LONG', 'INT', 'HEXA', 'OCTA', 'BINARY', 'LEFT_PARENTHESIS', 'RIGHT_PARENTHESIS', 'COLON', 'COMMA', 'SEMICOLON', 'AT', 'PLUS', 'MINUS', 'STAR', 'SLASH', 'VBAR', 'AMPER', 'AT', 'LESS', 'GREATER', 'EQUAL', 'PERCENT', 'LEFT_SQUARE_BRACKET', 'RIGHT_SQUARE_BRACKET', 'LEFT_BRACKET', 'RIGHT_BRACKET', 'BACKQUOTE', 'EQUAL_EQUAL', 'NOT_EQUAL', 'NOT_EQUAL', 'LESS_EQUAL', 'GREATER_EQUAL', 'TILDE', 'CIRCUMFLEX', 'LEFT_SHIFT', 'RIGHT_SHIFT', 'DOUBLE_STAR', 'PLUS_EQUAL', 'MINUS_EQUAL', 'AT_EQUAL', 'STAR_EQUAL', 'SLASH_EQUAL', 'PERCENT_EQUAL', 'AMPER_EQUAL', 'VBAR_EQUAL', 'CIRCUMFLEX_EQUAL', 'LEFT_SHIFT_EQUAL', 'RIGHT_SHIFT_EQUAL', 'ELLIPSIS', 'RIGHT_ARROW', 'DOUBLE_STAR_EQUAL', 'DOUBLE_SLASH', 'DOUBLE_SLASH_EQUAL', 'ENDL', 'ENDL', 'COMMENT', 'SPACE', 'STRING', 'UNICODE_STRING', 'INTERPOLATED_STRING', 'RAW_STRING', 'BINARY_STRING', 'UNICODE_RAW_STRING', 'BINARY_RAW_STRING', 'INTERPOLATED_RAW_STRING', 'INTERPOLATED_RAW_STRING', 'AND', 'AS', 'ASSERT', 'AWAIT', 'ASYNC', 'BREAK', 'CLASS', 'CONTINUE', 'DEF', 'DEL', 'ELIF', 'ELSE', 'EXCEPT', 'EXEC', 'FINALLY', 'FOR', 'FROM', 'GLOBAL', 'NONLOCAL', 'IF', 'IMPORT', 'IN', 'IS', 'LAMBDA', 'NOT', 'OR', 'PASS', 'PRINT', 'RAISE', 'RETURN', 'TRY', 'WHILE', 'WITH', 'YIELD', 'RANGE', 'HEX']\n"
     ]
    }
   ],
   "source": [
    "keywords_tokens_list=list1+UPPER_KEYWORDS\n",
    "print(keywords_tokens_list)"
   ]
  },
  {
   "cell_type": "code",
   "execution_count": 15,
   "metadata": {},
   "outputs": [
    {
     "name": "stdout",
     "output_type": "stream",
     "text": [
      "0 VAR\n",
      "1 INT\n",
      "2 FLOAT_EXPONANT_COMPLEX\n",
      "3 FLOAT_EXPONANT_COMPLEX\n",
      "4 FLOAT_EXPONANT_COMPLEX\n",
      "5 FLOAT_EXPONANT\n",
      "6 FLOAT_EXPONANT\n",
      "7 FLOAT_EXPONANT\n",
      "8 COMPLEX\n",
      "9 COMPLEX\n",
      "10 COMPLEX\n",
      "11 FLOAT\n",
      "12 FLOAT\n",
      "13 FLOAT\n",
      "14 DOT\n",
      "15 LONG\n",
      "16 INT\n",
      "17 HEXA\n",
      "18 OCTA\n",
      "19 BINARY\n",
      "20 LEFT_PARENTHESIS\n",
      "21 RIGHT_PARENTHESIS\n",
      "22 COLON\n",
      "23 COMMA\n",
      "24 SEMICOLON\n",
      "25 AT\n",
      "26 PLUS\n",
      "27 MINUS\n",
      "28 STAR\n",
      "29 SLASH\n",
      "30 VBAR\n",
      "31 AMPER\n",
      "32 AT\n",
      "33 LESS\n",
      "34 GREATER\n",
      "35 EQUAL\n",
      "36 PERCENT\n",
      "37 LEFT_SQUARE_BRACKET\n",
      "38 RIGHT_SQUARE_BRACKET\n",
      "39 LEFT_BRACKET\n",
      "40 RIGHT_BRACKET\n",
      "41 BACKQUOTE\n",
      "42 EQUAL_EQUAL\n",
      "43 NOT_EQUAL\n",
      "44 NOT_EQUAL\n",
      "45 LESS_EQUAL\n",
      "46 GREATER_EQUAL\n",
      "47 TILDE\n",
      "48 CIRCUMFLEX\n",
      "49 LEFT_SHIFT\n",
      "50 RIGHT_SHIFT\n",
      "51 DOUBLE_STAR\n",
      "52 PLUS_EQUAL\n",
      "53 MINUS_EQUAL\n",
      "54 AT_EQUAL\n",
      "55 STAR_EQUAL\n",
      "56 SLASH_EQUAL\n",
      "57 PERCENT_EQUAL\n",
      "58 AMPER_EQUAL\n",
      "59 VBAR_EQUAL\n",
      "60 CIRCUMFLEX_EQUAL\n",
      "61 LEFT_SHIFT_EQUAL\n",
      "62 RIGHT_SHIFT_EQUAL\n",
      "63 ELLIPSIS\n",
      "64 RIGHT_ARROW\n",
      "65 DOUBLE_STAR_EQUAL\n",
      "66 DOUBLE_SLASH\n",
      "67 DOUBLE_SLASH_EQUAL\n",
      "68 ENDL\n",
      "69 ENDL\n",
      "70 COMMENT\n",
      "71 SPACE\n",
      "72 STRING\n",
      "73 UNICODE_STRING\n",
      "74 INTERPOLATED_STRING\n",
      "75 RAW_STRING\n",
      "76 BINARY_STRING\n",
      "77 UNICODE_RAW_STRING\n",
      "78 BINARY_RAW_STRING\n",
      "79 INTERPOLATED_RAW_STRING\n",
      "80 INTERPOLATED_RAW_STRING\n",
      "81 AND\n",
      "82 AS\n",
      "83 ASSERT\n",
      "84 AWAIT\n",
      "85 ASYNC\n",
      "86 BREAK\n",
      "87 CLASS\n",
      "88 CONTINUE\n",
      "89 DEF\n",
      "90 DEL\n",
      "91 ELIF\n",
      "92 ELSE\n",
      "93 EXCEPT\n",
      "94 EXEC\n",
      "95 FINALLY\n",
      "96 FOR\n",
      "97 FROM\n",
      "98 GLOBAL\n",
      "99 NONLOCAL\n",
      "100 IF\n",
      "101 IMPORT\n",
      "102 IN\n",
      "103 IS\n",
      "104 LAMBDA\n",
      "105 NOT\n",
      "106 OR\n",
      "107 PASS\n",
      "108 PRINT\n",
      "109 RAISE\n",
      "110 RETURN\n",
      "111 TRY\n",
      "112 WHILE\n",
      "113 WITH\n",
      "114 YIELD\n",
      "115 RANGE\n",
      "116 HEX\n"
     ]
    }
   ],
   "source": [
    "for idx, x in enumerate(keywords_tokens_list):\n",
    "    print(idx, x)"
   ]
  },
  {
   "cell_type": "code",
   "execution_count": 16,
   "metadata": {},
   "outputs": [
    {
     "name": "stdout",
     "output_type": "stream",
     "text": [
      "[68, 89, 0, 20, 21, 22, 71, 108, 20, 21, 0, 20, 21, 100, 96]\n"
     ]
    }
   ],
   "source": [
    "list_ind= []\n",
    "for item in deneme:\n",
    "    index=keywords_tokens_list.index(item)\n",
    "    list_ind.append(index)\n",
    "print(list_ind)"
   ]
  },
  {
   "cell_type": "code",
   "execution_count": 17,
   "metadata": {},
   "outputs": [
    {
     "name": "stdout",
     "output_type": "stream",
     "text": [
      "(re.compile('^\\\\d+[eE][-+]?\\\\d*$'), 'FLOAT_EXPONANT')\n"
     ]
    }
   ],
   "source": [
    "predict=5\n",
    "token_name=TOKENS[predict]\n",
    "print(token_name)"
   ]
  }
 ],
 "metadata": {
  "kernelspec": {
   "display_name": "Python 3.7.12 ('mytfenv')",
   "language": "python",
   "name": "python3"
  },
  "language_info": {
   "codemirror_mode": {
    "name": "ipython",
    "version": 3
   },
   "file_extension": ".py",
   "mimetype": "text/x-python",
   "name": "python",
   "nbconvert_exporter": "python",
   "pygments_lexer": "ipython3",
   "version": "3.7.12"
  },
  "orig_nbformat": 4,
  "vscode": {
   "interpreter": {
    "hash": "7f70ee699686e1f461cd0e9b5380c50290978c1a1034c9f16fe349d971491f66"
   }
  }
 },
 "nbformat": 4,
 "nbformat_minor": 2
}
